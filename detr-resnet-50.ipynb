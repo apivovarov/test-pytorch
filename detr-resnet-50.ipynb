{
 "cells": [
  {
   "cell_type": "code",
   "execution_count": null,
   "metadata": {},
   "outputs": [],
   "source": [
    "import torch\n",
    "import torchvision\n",
    "from PIL import Image\n",
    "import requests\n",
    "import torchvision.transforms as T\n",
    "torch.__version__"
   ]
  },
  {
   "cell_type": "code",
   "execution_count": null,
   "metadata": {},
   "outputs": [],
   "source": [
    "# standard PyTorch mean-std input image normalization\n",
    "transform = T.Compose([\n",
    "    T.Resize(800),\n",
    "    T.ToTensor(),\n",
    "    T.Normalize([0.485, 0.456, 0.406], [0.229, 0.224, 0.225])\n",
    "])"
   ]
  },
  {
   "cell_type": "code",
   "execution_count": null,
   "metadata": {},
   "outputs": [],
   "source": [
    "m = torch.hub.load('facebookresearch/detr', 'detr_resnet50', pretrained=True)\n",
    "m.eval();"
   ]
  },
  {
   "cell_type": "code",
   "execution_count": null,
   "metadata": {},
   "outputs": [],
   "source": [
    "url = 'http://images.cocodataset.org/val2017/000000039769.jpg'\n",
    "im = Image.open(requests.get(url, stream=True).raw)"
   ]
  },
  {
   "cell_type": "code",
   "execution_count": null,
   "metadata": {},
   "outputs": [],
   "source": [
    "# mean-std normalize the input image (batch-size: 1)\n",
    "data = transform(im).unsqueeze(0)\n",
    "\n",
    "# propagate through the model\n",
    "outputs = m(data)\n",
    "\n",
    "# keep only predictions with 0.7+ confidence\n",
    "probas = outputs['pred_logits'].softmax(-1)[0, :, :-1]\n"
   ]
  },
  {
   "cell_type": "code",
   "execution_count": null,
   "metadata": {},
   "outputs": [],
   "source": [
    "import time\n",
    "import numpy as np\n",
    "from tqdm import tqdm\n",
    "\n",
    "import torch._dynamo\n",
    "torch._dynamo.reset()\n",
    "\n",
    "#mode = None # 58, 55\n",
    "#mode = \"default\" # 56, 55\n",
    "#mode = \"max-autotune\" # 57, 55\n",
    "mode = \"reduce-overhead\" # 58, 55\n",
    "print(\"Compiling...\")\n",
    "m_opt = torch.compile(m, mode=mode)\n",
    "res = m_opt(data)\n",
    "print(\"Compilation Done\")\n",
    "\n",
    "for model, desc in [(m, \"detr-resnet-50\"), (m_opt, \"detr-resnet-50_inductor_reduce-overhead\")]:\n",
    "    N = 3; i = 0\n",
    "    while i < N:\n",
    "        res = model(data)\n",
    "        i += 1\n",
    "\n",
    "    N = 10; i = 0\n",
    "    TT = []\n",
    "    while i < N:\n",
    "        t0 = time.time()\n",
    "        res = model(data)\n",
    "        dur = (time.time() - t0) * 1000\n",
    "        TT.append(dur)\n",
    "        i += 1\n",
    "\n",
    "    print(f\"{desc},{np.mean(TT):.3f},{np.percentile(TT, 50):.3f}\")"
   ]
  }
 ],
 "metadata": {
  "kernelspec": {
   "display_name": "Python 3",
   "language": "python",
   "name": "python3"
  },
  "language_info": {
   "codemirror_mode": {
    "name": "ipython",
    "version": 3
   },
   "file_extension": ".py",
   "mimetype": "text/x-python",
   "name": "python",
   "nbconvert_exporter": "python",
   "pygments_lexer": "ipython3",
   "version": "3.8.10"
  },
  "orig_nbformat": 4
 },
 "nbformat": 4,
 "nbformat_minor": 2
}
