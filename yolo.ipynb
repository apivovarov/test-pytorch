{
 "cells": [
  {
   "cell_type": "code",
   "execution_count": null,
   "metadata": {},
   "outputs": [],
   "source": [
    "import torch\n",
    "\n",
    "# Model\n",
    "m_name = 'yolov5s'\n",
    "m = torch.hub.load('ultralytics/yolov5', m_name, pretrained=True)\n",
    "m.eval()\n",
    "# Images\n",
    "data = ['zidane.jpg']  # batch of images\n",
    "\n",
    "# Inference\n",
    "results = m(data)\n",
    "\n",
    "print(results.pred)\n",
    "# Results\n",
    "#results.print()\n",
    "#results.show()\n",
    "\n",
    "#results.xyxy[0]  # img1 predictions (tensor)\n",
    "#results.pandas().xyxy[0] "
   ]
  },
  {
   "cell_type": "code",
   "execution_count": null,
   "metadata": {},
   "outputs": [],
   "source": [
    "import time\n",
    "import numpy as np\n",
    "from tqdm import tqdm\n",
    "\n",
    "import torch._dynamo\n",
    "torch._dynamo.reset()\n",
    "torch._dynamo.config.verbose=True\n",
    "\n",
    "def evaluate(mod, inp):\n",
    "    return mod(inp).pred\n",
    "\n",
    "print(\"Compiling...\")\n",
    "#mode = None # 58, 55\n",
    "#mode = \"default\" # 56, 55\n",
    "#mode = \"max-autotune\" # 57, 55\n",
    "mode = \"reduce-overhead\" # 58, 55\n",
    "evaluate_opt = torch.compile(evaluate, mode=mode)\n",
    "res = evaluate_opt(m, data)\n",
    "print(\"Compilation Done\")\n",
    "\n",
    "for fun, desc in [(evaluate, m_name), (evaluate_opt, f\"{m_name}_inductor_reduce-overhead\")]:\n",
    "    N = 10; i = 0\n",
    "    while i < N:\n",
    "        res = fun(m, data)\n",
    "        i += 1\n",
    "\n",
    "    N = 50; i = 0\n",
    "    TT = []\n",
    "    while i < N:\n",
    "        t0 = time.time()\n",
    "        res = fun(m, data)\n",
    "        dur = (time.time() - t0) * 1000\n",
    "        TT.append(dur)\n",
    "        i += 1\n",
    "\n",
    "    print(f\"{desc},{np.mean(TT):.3f},{np.percentile(TT, 50):.3f}\")"
   ]
  }
 ],
 "metadata": {
  "kernelspec": {
   "display_name": "Python 3",
   "language": "python",
   "name": "python3"
  },
  "language_info": {
   "codemirror_mode": {
    "name": "ipython",
    "version": 3
   },
   "file_extension": ".py",
   "mimetype": "text/x-python",
   "name": "python",
   "nbconvert_exporter": "python",
   "pygments_lexer": "ipython3",
   "version": "3.8.10"
  },
  "orig_nbformat": 4
 },
 "nbformat": 4,
 "nbformat_minor": 2
}
