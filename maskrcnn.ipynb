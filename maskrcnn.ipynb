{
 "cells": [
  {
   "cell_type": "code",
   "execution_count": null,
   "metadata": {},
   "outputs": [],
   "source": [
    "import torch\n",
    "import torchvision\n",
    "from torchvision.models.detection import MaskRCNN_ResNet50_FPN_V2_Weights, maskrcnn_resnet50_fpn_v2\n",
    "from PIL import Image\n",
    "torch.__version__"
   ]
  },
  {
   "cell_type": "code",
   "execution_count": null,
   "metadata": {},
   "outputs": [],
   "source": [
    "weights = MaskRCNN_ResNet50_FPN_V2_Weights.DEFAULT\n",
    "m = maskrcnn_resnet50_fpn_v2(weights=weights)\n",
    "m = m.eval()"
   ]
  },
  {
   "cell_type": "code",
   "execution_count": null,
   "metadata": {},
   "outputs": [],
   "source": [
    "image = Image.open(\"cat.jpg\")\n",
    "preprocess = weights.transforms()\n",
    "data = preprocess(image)\n",
    "data = data.unsqueeze(0)\n",
    "print(data.shape)"
   ]
  },
  {
   "cell_type": "code",
   "execution_count": null,
   "metadata": {},
   "outputs": [],
   "source": [
    "res = m(data)\n",
    "print(res)"
   ]
  },
  {
   "cell_type": "code",
   "execution_count": 6,
   "metadata": {},
   "outputs": [
    {
     "name": "stdout",
     "output_type": "stream",
     "text": [
      "Compiling...\n",
      "Compilation Done\n",
      "def: mean time: 2260.721 ms\n",
      "def: p50 time: 2283.098 ms\n",
      "opt: mean time: 2219.373 ms\n",
      "opt: p50 time: 2173.701 ms\n"
     ]
    }
   ],
   "source": [
    "import time\n",
    "import numpy as np\n",
    "from tqdm import tqdm\n",
    "\n",
    "import torch._dynamo\n",
    "torch._dynamo.reset()\n",
    "\n",
    "#mode = None # 58, 55\n",
    "#mode = \"default\" # 56, 55\n",
    "#mode = \"max-autotune\" # 57, 55\n",
    "mode = \"reduce-overhead\" # 58, 55\n",
    "print(\"Compiling...\")\n",
    "m_opt = torch.compile(m, mode=mode)\n",
    "res = m_opt(data)\n",
    "print(\"Compilation Done\")\n",
    "\n",
    "for model, desc in [(m, \"maskrcnn\"), (m_opt, \"maskrcnn_inductor_reduce-overhead\")]:\n",
    "    N = 3; i = 0\n",
    "    while i < N:\n",
    "        res = model(data)\n",
    "        i += 1\n",
    "\n",
    "    N = 10; i = 0\n",
    "    TT = []\n",
    "    while i < N:\n",
    "        t0 = time.time()\n",
    "        res = model(data)\n",
    "        dur = (time.time() - t0) * 1000\n",
    "        TT.append(dur)\n",
    "        i += 1\n",
    "\n",
    "    print(f\"{desc},{np.mean(TT):.3f},{np.percentile(TT, 50):.3f}\")"
   ]
  },
  {
   "cell_type": "code",
   "execution_count": null,
   "metadata": {},
   "outputs": [],
   "source": [
    "import time\n",
    "import numpy as np\n",
    "from tqdm import tqdm\n",
    "\n",
    "import torch._dynamo\n",
    "torch._dynamo.reset()\n",
    "\n",
    "def evaluate(mod, inp):\n",
    "    return mod(inp)\n",
    "\n",
    "print(\"Compiling...\")\n",
    "#mode = None # 58, 55\n",
    "#mode = \"default\" # 56, 55\n",
    "#mode = \"max-autotune\" # 57, 55\n",
    "model = \"reduce-overhead\" # 58, 55\n",
    "evaluate_opt = torch.compile(evaluate, mode=mode)\n",
    "res = evaluate_opt(m, data)\n",
    "print(\"Compilation Done\")\n",
    "\n",
    "for fun, desc in [(evaluate, \"def\"), (evaluate_opt, \"opt\")]:\n",
    "    N = 10; i = 0\n",
    "    while i < N:\n",
    "        res = fun(m, data)\n",
    "        i += 1\n",
    "\n",
    "    N = 50; i = 0\n",
    "    TT = []\n",
    "    while i < N:\n",
    "        t0 = time.time()\n",
    "        res = fun(m, data)\n",
    "        dur = (time.time() - t0) * 1000\n",
    "        TT.append(dur)\n",
    "        i += 1\n",
    "\n",
    "    print(f\"{desc}: mean time: {np.mean(TT):.3f} ms\")\n",
    "    print(f\"{desc}: p50 time: {np.percentile(TT, 50):.3f} ms\")"
   ]
  },
  {
   "cell_type": "code",
   "execution_count": null,
   "metadata": {},
   "outputs": [],
   "source": [
    "import matplotlib\n",
    "from matplotlib import pyplot as plt\n",
    "\n",
    "aa={\n",
    "'PyTorch': 92772,\n",
    "'Tensorflow':7210,\n",
    "'JAX': 8348,\n",
    "'ONNX': 4138,\n",
    "'Keras': 802,\n",
    "'MXNET': 0\n",
    "}\n",
    "people = aa.keys()\n",
    "y_pos = np.arange(len(people))\n",
    "performance = aa.values()\n",
    "error = np.random.rand(len(people))\n",
    "\n",
    "fig, ax = plt.subplots()\n",
    "\n",
    "hbars = ax.barh(y_pos, performance, xerr=error, align='center')\n",
    "ax.set_yticks(y_pos, labels=people)\n",
    "ax.invert_yaxis()  # labels read top-to-bottom\n",
    "ax.set_xlabel('Model numbers')\n",
    "ax.set_title('Hugging Face Stat')\n",
    "\n",
    "# Label with specially formatted floats\n",
    "ax.bar_label(hbars, fmt='{:,.0f}')\n",
    "ax.set_xlim(right=105000)  # adjust xlim to fit labels\n",
    "\n",
    "plt.show()"
   ]
  }
 ],
 "metadata": {
  "kernelspec": {
   "display_name": "Python 3",
   "language": "python",
   "name": "python3"
  },
  "language_info": {
   "codemirror_mode": {
    "name": "ipython",
    "version": 3
   },
   "file_extension": ".py",
   "mimetype": "text/x-python",
   "name": "python",
   "nbconvert_exporter": "python",
   "pygments_lexer": "ipython3",
   "version": "3.8.10"
  },
  "orig_nbformat": 4
 },
 "nbformat": 4,
 "nbformat_minor": 2
}
