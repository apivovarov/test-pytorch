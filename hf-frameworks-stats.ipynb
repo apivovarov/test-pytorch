{
 "cells": [
  {
   "cell_type": "code",
   "execution_count": null,
   "metadata": {},
   "outputs": [],
   "source": [
    "import matplotlib\n",
    "from matplotlib import pyplot as plt\n",
    "import numpy as np\n",
    "\n",
    "aa={\n",
    "'PyTorch': 92772,\n",
    "'Tensorflow':7210,\n",
    "'JAX': 8348,\n",
    "'ONNX': 4138,\n",
    "'Keras': 802,\n",
    "'MXNET': 0\n",
    "}\n",
    "people = aa.keys()\n",
    "y_pos = np.arange(len(people))\n",
    "performance = aa.values()\n",
    "error = np.random.rand(len(people))\n",
    "\n",
    "fig, ax = plt.subplots()\n",
    "\n",
    "hbars = ax.barh(y_pos, performance, xerr=error, align='center')\n",
    "ax.set_yticks(y_pos, labels=people)\n",
    "ax.invert_yaxis()  # labels read top-to-bottom\n",
    "ax.set_xlabel('Model numbers')\n",
    "ax.set_title('Hugging Face Stat')\n",
    "\n",
    "# Label with specially formatted floats\n",
    "ax.bar_label(hbars, fmt='{:,.0f}')\n",
    "ax.set_xlim(right=105000)  # adjust xlim to fit labels\n",
    "\n",
    "plt.show()"
   ]
  }
 ],
 "metadata": {
  "kernelspec": {
   "display_name": "Python 3",
   "language": "python",
   "name": "python3"
  },
  "language_info": {
   "codemirror_mode": {
    "name": "ipython",
    "version": 3
   },
   "file_extension": ".py",
   "mimetype": "text/x-python",
   "name": "python",
   "nbconvert_exporter": "python",
   "pygments_lexer": "ipython3",
   "version": "3.8.10"
  },
  "orig_nbformat": 4
 },
 "nbformat": 4,
 "nbformat_minor": 2
}
