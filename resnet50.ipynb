{
 "cells": [
  {
   "cell_type": "code",
   "execution_count": null,
   "metadata": {},
   "outputs": [],
   "source": [
    "import torch\n",
    "import torchvision\n",
    "from torchvision.models import ResNet50_Weights, resnet50\n",
    "from PIL import Image\n",
    "torch.__version__"
   ]
  },
  {
   "cell_type": "code",
   "execution_count": null,
   "metadata": {},
   "outputs": [],
   "source": [
    "weights = ResNet50_Weights.DEFAULT\n",
    "m = resnet50(weights=weights)\n",
    "m = m.eval()"
   ]
  },
  {
   "cell_type": "code",
   "execution_count": null,
   "metadata": {},
   "outputs": [],
   "source": [
    "image = Image.open(\"cat.jpg\")\n",
    "preprocess = weights.transforms()\n",
    "data = preprocess(image)\n",
    "data = data.unsqueeze(0)"
   ]
  },
  {
   "cell_type": "code",
   "execution_count": null,
   "metadata": {},
   "outputs": [],
   "source": [
    "data.shape\n",
    "res = m(data)\n",
    "id = res.argmax(axis=-1)\n",
    "print(id)"
   ]
  },
  {
   "cell_type": "code",
   "execution_count": null,
   "metadata": {},
   "outputs": [],
   "source": [
    "traced_model = torch.jit.trace(m, data)\n",
    "res = traced_model(data)"
   ]
  },
  {
   "cell_type": "code",
   "execution_count": null,
   "metadata": {},
   "outputs": [],
   "source": [
    "script_model = torch.jit.script(m)\n",
    "res = script_model(data)"
   ]
  },
  {
   "cell_type": "code",
   "execution_count": null,
   "metadata": {},
   "outputs": [],
   "source": [
    "def ff(model, data):\n",
    "    return model(data)\n",
    "\n",
    "ff_opt = torch.compile(ff)\n"
   ]
  },
  {
   "cell_type": "code",
   "execution_count": null,
   "metadata": {},
   "outputs": [],
   "source": [
    "\n",
    "ff_opt(m, data)"
   ]
  },
  {
   "cell_type": "code",
   "execution_count": null,
   "metadata": {},
   "outputs": [],
   "source": [
    "import time\n",
    "import numpy as np\n",
    "from tqdm import tqdm\n",
    "\n",
    "import torch._dynamo\n",
    "torch._dynamo.reset()\n",
    "\n",
    "#mode = None # 58, 55\n",
    "#mode = \"default\" # 56, 55\n",
    "#mode = \"max-autotune\" # 57, 55\n",
    "mode = \"reduce-overhead\" # 58, 55\n",
    "print(\"Compiling...\")\n",
    "m_opt = torch.compile(m, mode=mode)\n",
    "#m_opt = torch.compile(m, backend='torchxla_trace_once')\n",
    "res = m_opt(data)\n",
    "print(\"Compilation Done\")\n",
    "\n",
    "for model, desc in [(m, \"resnet50\"), (m_opt, \"resnet50_inductor_reduce-overhead\")]:\n",
    "    N = 10; i = 0\n",
    "    while i < N:\n",
    "        res = model(data)\n",
    "        i += 1\n",
    "\n",
    "    N = 50; i = 0\n",
    "    TT = []\n",
    "    while i < N:\n",
    "        t0 = time.time()\n",
    "        res = model(data)\n",
    "        dur = (time.time() - t0) * 1000\n",
    "        TT.append(dur)\n",
    "        i += 1\n",
    "\n",
    "    print(f\"{desc},{np.mean(TT):.3f},{np.percentile(TT, 50):.3f}\")"
   ]
  },
  {
   "cell_type": "code",
   "execution_count": null,
   "metadata": {},
   "outputs": [],
   "source": [
    "import time\n",
    "import numpy as np\n",
    "from tqdm import tqdm\n",
    "\n",
    "import torch._dynamo\n",
    "torch._dynamo.reset()\n",
    "\n",
    "def evaluate(mod, inp):\n",
    "    return mod(inp)\n",
    "\n",
    "print(\"Compiling...\")\n",
    "#mode = None # 58, 55\n",
    "#mode = \"default\" # 56, 55\n",
    "#mode = \"max-autotune\" # 57, 55\n",
    "mode = \"reduce-overhead\" # 58, 55\n",
    "evaluate_opt = torch.compile(evaluate, mode=mode)\n",
    "res = evaluate_opt(m, data)\n",
    "print(\"Compilation Done\")\n",
    "\n",
    "for fun, desc in [(evaluate, \"resnet50\"), (evaluate_opt, \"resnet50_inductor_reduce-overhead\")]:\n",
    "    N = 10; i = 0\n",
    "    while i < N:\n",
    "        res = fun(m, data)\n",
    "        i += 1\n",
    "\n",
    "    N = 50; i = 0\n",
    "    TT = []\n",
    "    while i < N:\n",
    "        t0 = time.time()\n",
    "        res = fun(m, data)\n",
    "        dur = (time.time() - t0) * 1000\n",
    "        TT.append(dur)\n",
    "        i += 1\n",
    "\n",
    "    print(f\"{desc},{np.mean(TT):.3f},{np.percentile(TT, 50):.3f}\")"
   ]
  }
 ],
 "metadata": {
  "kernelspec": {
   "display_name": "Python 3",
   "language": "python",
   "name": "python3"
  },
  "language_info": {
   "codemirror_mode": {
    "name": "ipython",
    "version": 3
   },
   "file_extension": ".py",
   "mimetype": "text/x-python",
   "name": "python",
   "nbconvert_exporter": "python",
   "pygments_lexer": "ipython3",
   "version": "3.8.10"
  },
  "orig_nbformat": 4
 },
 "nbformat": 4,
 "nbformat_minor": 2
}
